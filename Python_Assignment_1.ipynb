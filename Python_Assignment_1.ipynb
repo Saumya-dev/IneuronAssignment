{
  "nbformat": 4,
  "nbformat_minor": 0,
  "metadata": {
    "colab": {
      "name": "Python Assignment 1.ipynb",
      "provenance": [],
      "collapsed_sections": []
    },
    "kernelspec": {
      "name": "python3",
      "display_name": "Python 3"
    }
  },
  "cells": [
    {
      "cell_type": "code",
      "metadata": {
        "id": "L7KXisEPqAOr",
        "colab_type": "code",
        "colab": {}
      },
      "source": [
        ""
      ],
      "execution_count": null,
      "outputs": []
    },
    {
      "cell_type": "markdown",
      "metadata": {
        "id": "rNl_xXN3qCAq",
        "colab_type": "text"
      },
      "source": [
        "# 3.Write a Python program to find the volume of a sphere with diameter 12 cm."
      ]
    },
    {
      "cell_type": "code",
      "metadata": {
        "id": "VXXnMp5jqL2t",
        "colab_type": "code",
        "colab": {
          "base_uri": "https://localhost:8080/",
          "height": 34
        },
        "outputId": "c588c220-ebc4-41ec-f4fd-730118a6cd35"
      },
      "source": [
        "D = 12 \n",
        "R = D/2\n",
        "R"
      ],
      "execution_count": 1,
      "outputs": [
        {
          "output_type": "execute_result",
          "data": {
            "text/plain": [
              "6.0"
            ]
          },
          "metadata": {
            "tags": []
          },
          "execution_count": 1
        }
      ]
    },
    {
      "cell_type": "code",
      "metadata": {
        "id": "3cflokBpqYbW",
        "colab_type": "code",
        "colab": {
          "base_uri": "https://localhost:8080/",
          "height": 34
        },
        "outputId": "dd1b4bcf-0944-425f-e975-675732e9a3b7"
      },
      "source": [
        "π = 22/7\n",
        "V = 4/3 * π * R**3\n",
        "print(\"Volume of a sphere = \" , V)"
      ],
      "execution_count": 4,
      "outputs": [
        {
          "output_type": "stream",
          "text": [
            "Volume of a sphere =  905.142857142857\n"
          ],
          "name": "stdout"
        }
      ]
    },
    {
      "cell_type": "markdown",
      "metadata": {
        "id": "YFHoskfyqxxi",
        "colab_type": "text"
      },
      "source": [
        "## 2. Write a Python program to accept the user's first and last name and then getting them in a reverse order with a space between first name and last name."
      ]
    },
    {
      "cell_type": "code",
      "metadata": {
        "id": "ssIAd66jq18p",
        "colab_type": "code",
        "colab": {
          "base_uri": "https://localhost:8080/",
          "height": 68
        },
        "outputId": "8ffdd1ae-37cf-4792-9971-b2d246cb53b5"
      },
      "source": [
        "First = input(\"Enter first name : \")\n",
        "Second = input(\"Enter second name : \")\n",
        "print(Second + \" \" + First)"
      ],
      "execution_count": 5,
      "outputs": [
        {
          "output_type": "stream",
          "text": [
            "Enter first name : Saumya\n",
            "Enter second name : Kumari\n",
            "Kumari Saumya\n"
          ],
          "name": "stdout"
        }
      ]
    },
    {
      "cell_type": "markdown",
      "metadata": {
        "id": "wVLOvaBprAaz",
        "colab_type": "text"
      },
      "source": [
        "## 1.Write a program which will find all such numbers which are divisble by 7 but are not a multiple of 5, between 2000 and 3200 (both included). The numbers obtained should be printed in a comma-separated sequence on a single line."
      ]
    },
    {
      "cell_type": "code",
      "metadata": {
        "id": "6EWKzYz8rBop",
        "colab_type": "code",
        "colab": {
          "base_uri": "https://localhost:8080/",
          "height": 34
        },
        "outputId": "b65fc395-a67b-44fa-8c11-b3c9404642d8"
      },
      "source": [
        "numbers=[] \n",
        "numbers"
      ],
      "execution_count": 7,
      "outputs": [
        {
          "output_type": "execute_result",
          "data": {
            "text/plain": [
              "[]"
            ]
          },
          "metadata": {
            "tags": []
          },
          "execution_count": 7
        }
      ]
    },
    {
      "cell_type": "code",
      "metadata": {
        "id": "5-8_7qC-rN4N",
        "colab_type": "code",
        "colab": {
          "base_uri": "https://localhost:8080/",
          "height": 54
        },
        "outputId": "715ac3da-0963-469e-e59c-050dfde531d6"
      },
      "source": [
        "for x in range(2000,3201):\n",
        "    if(x%7==0) and (x%5!=0):\n",
        "        numbers.append(str(x))  \n",
        "print(','.join(numbers))\n"
      ],
      "execution_count": 8,
      "outputs": [
        {
          "output_type": "stream",
          "text": [
            "2002,2009,2016,2023,2037,2044,2051,2058,2072,2079,2086,2093,2107,2114,2121,2128,2142,2149,2156,2163,2177,2184,2191,2198,2212,2219,2226,2233,2247,2254,2261,2268,2282,2289,2296,2303,2317,2324,2331,2338,2352,2359,2366,2373,2387,2394,2401,2408,2422,2429,2436,2443,2457,2464,2471,2478,2492,2499,2506,2513,2527,2534,2541,2548,2562,2569,2576,2583,2597,2604,2611,2618,2632,2639,2646,2653,2667,2674,2681,2688,2702,2709,2716,2723,2737,2744,2751,2758,2772,2779,2786,2793,2807,2814,2821,2828,2842,2849,2856,2863,2877,2884,2891,2898,2912,2919,2926,2933,2947,2954,2961,2968,2982,2989,2996,3003,3017,3024,3031,3038,3052,3059,3066,3073,3087,3094,3101,3108,3122,3129,3136,3143,3157,3164,3171,3178,3192,3199\n"
          ],
          "name": "stdout"
        }
      ]
    }
  ]
}