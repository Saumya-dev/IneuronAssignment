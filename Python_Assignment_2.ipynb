{
  "nbformat": 4,
  "nbformat_minor": 0,
  "metadata": {
    "colab": {
      "name": "Python Assignment 2.ipynb",
      "provenance": []
    },
    "kernelspec": {
      "name": "python3",
      "display_name": "Python 3"
    }
  },
  "cells": [
    {
      "cell_type": "code",
      "metadata": {
        "id": "IY-WrWGMAKOd",
        "colab_type": "code",
        "colab": {}
      },
      "source": [
        ""
      ],
      "execution_count": null,
      "outputs": []
    },
    {
      "cell_type": "markdown",
      "metadata": {
        "id": "WwChYp39QPZf",
        "colab_type": "text"
      },
      "source": [
        "1.Create pattern"
      ]
    },
    {
      "cell_type": "code",
      "metadata": {
        "id": "MIKc-klCQbI6",
        "colab_type": "code",
        "colab": {
          "base_uri": "https://localhost:8080/",
          "height": 170
        },
        "outputId": "1a2ef63d-d0d6-4799-d6c4-c459486c5c7b"
      },
      "source": [
        "n =  5\n",
        "for i in range(n):\n",
        "  print('* '*(i+1))\n",
        "for i in range(n-1):\n",
        "  print('* '*(n-i-1))\n"
      ],
      "execution_count": 1,
      "outputs": [
        {
          "output_type": "stream",
          "text": [
            "* \n",
            "* * \n",
            "* * * \n",
            "* * * * \n",
            "* * * * * \n",
            "* * * * \n",
            "* * * \n",
            "* * \n",
            "* \n"
          ],
          "name": "stdout"
        }
      ]
    },
    {
      "cell_type": "markdown",
      "metadata": {
        "id": "vmvm-oV9SECJ",
        "colab_type": "text"
      },
      "source": [
        "2.Reverse a word after accepting the input from user."
      ]
    },
    {
      "cell_type": "code",
      "metadata": {
        "id": "SwrJUgkeSRrH",
        "colab_type": "code",
        "colab": {
          "base_uri": "https://localhost:8080/",
          "height": 34
        },
        "outputId": "bd721ffc-91a9-4036-f0c2-132605f11fbe"
      },
      "source": [
        "r = input(\"Enter a word: \")\n"
      ],
      "execution_count": 3,
      "outputs": [
        {
          "output_type": "stream",
          "text": [
            "Enter a word: Saumya\n"
          ],
          "name": "stdout"
        }
      ]
    },
    {
      "cell_type": "code",
      "metadata": {
        "id": "MygiPJyjTYyB",
        "colab_type": "code",
        "colab": {
          "base_uri": "https://localhost:8080/",
          "height": 34
        },
        "outputId": "17d68706-006f-424e-a02a-762ead44f7c6"
      },
      "source": [
        "print(\"Reverse of word : \", r[::-1])"
      ],
      "execution_count": 9,
      "outputs": [
        {
          "output_type": "stream",
          "text": [
            "Reverse of word :  aymuaS\n"
          ],
          "name": "stdout"
        }
      ]
    }
  ]
}